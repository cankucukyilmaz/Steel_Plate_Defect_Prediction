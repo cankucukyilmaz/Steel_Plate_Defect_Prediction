{
 "cells": [
  {
   "cell_type": "markdown",
   "metadata": {},
   "source": [
    "# Libraries"
   ]
  },
  {
   "cell_type": "code",
   "execution_count": 14,
   "metadata": {},
   "outputs": [],
   "source": [
    "import pandas as pd\n",
    "import plotly.graph_objects as go\n",
    "\n",
    "from scipy.stats import mannwhitneyu"
   ]
  },
  {
   "cell_type": "markdown",
   "metadata": {},
   "source": [
    "# Reading Data"
   ]
  },
  {
   "cell_type": "code",
   "execution_count": 2,
   "metadata": {},
   "outputs": [
    {
     "data": {
      "text/html": [
       "<div>\n",
       "<style scoped>\n",
       "    .dataframe tbody tr th:only-of-type {\n",
       "        vertical-align: middle;\n",
       "    }\n",
       "\n",
       "    .dataframe tbody tr th {\n",
       "        vertical-align: top;\n",
       "    }\n",
       "\n",
       "    .dataframe thead th {\n",
       "        text-align: right;\n",
       "    }\n",
       "</style>\n",
       "<table border=\"1\" class=\"dataframe\">\n",
       "  <thead>\n",
       "    <tr style=\"text-align: right;\">\n",
       "      <th></th>\n",
       "      <th>id</th>\n",
       "      <th>X_Minimum</th>\n",
       "      <th>X_Maximum</th>\n",
       "      <th>Y_Minimum</th>\n",
       "      <th>Y_Maximum</th>\n",
       "      <th>Pixels_Areas</th>\n",
       "      <th>X_Perimeter</th>\n",
       "      <th>Y_Perimeter</th>\n",
       "      <th>Sum_of_Luminosity</th>\n",
       "      <th>Minimum_of_Luminosity</th>\n",
       "      <th>...</th>\n",
       "      <th>Orientation_Index</th>\n",
       "      <th>Luminosity_Index</th>\n",
       "      <th>SigmoidOfAreas</th>\n",
       "      <th>Pastry</th>\n",
       "      <th>Z_Scratch</th>\n",
       "      <th>K_Scatch</th>\n",
       "      <th>Stains</th>\n",
       "      <th>Dirtiness</th>\n",
       "      <th>Bumps</th>\n",
       "      <th>Other_Faults</th>\n",
       "    </tr>\n",
       "  </thead>\n",
       "  <tbody>\n",
       "    <tr>\n",
       "      <th>0</th>\n",
       "      <td>0</td>\n",
       "      <td>584</td>\n",
       "      <td>590</td>\n",
       "      <td>909972</td>\n",
       "      <td>909977</td>\n",
       "      <td>16</td>\n",
       "      <td>8</td>\n",
       "      <td>5</td>\n",
       "      <td>2274</td>\n",
       "      <td>113</td>\n",
       "      <td>...</td>\n",
       "      <td>-0.5000</td>\n",
       "      <td>-0.0104</td>\n",
       "      <td>0.1417</td>\n",
       "      <td>0</td>\n",
       "      <td>0</td>\n",
       "      <td>0</td>\n",
       "      <td>1</td>\n",
       "      <td>0</td>\n",
       "      <td>0</td>\n",
       "      <td>0</td>\n",
       "    </tr>\n",
       "    <tr>\n",
       "      <th>1</th>\n",
       "      <td>1</td>\n",
       "      <td>808</td>\n",
       "      <td>816</td>\n",
       "      <td>728350</td>\n",
       "      <td>728372</td>\n",
       "      <td>433</td>\n",
       "      <td>20</td>\n",
       "      <td>54</td>\n",
       "      <td>44478</td>\n",
       "      <td>70</td>\n",
       "      <td>...</td>\n",
       "      <td>0.7419</td>\n",
       "      <td>-0.2997</td>\n",
       "      <td>0.9491</td>\n",
       "      <td>0</td>\n",
       "      <td>0</td>\n",
       "      <td>0</td>\n",
       "      <td>0</td>\n",
       "      <td>0</td>\n",
       "      <td>0</td>\n",
       "      <td>1</td>\n",
       "    </tr>\n",
       "    <tr>\n",
       "      <th>2</th>\n",
       "      <td>2</td>\n",
       "      <td>39</td>\n",
       "      <td>192</td>\n",
       "      <td>2212076</td>\n",
       "      <td>2212144</td>\n",
       "      <td>11388</td>\n",
       "      <td>705</td>\n",
       "      <td>420</td>\n",
       "      <td>1311391</td>\n",
       "      <td>29</td>\n",
       "      <td>...</td>\n",
       "      <td>-0.0105</td>\n",
       "      <td>-0.0944</td>\n",
       "      <td>1.0000</td>\n",
       "      <td>0</td>\n",
       "      <td>0</td>\n",
       "      <td>1</td>\n",
       "      <td>0</td>\n",
       "      <td>0</td>\n",
       "      <td>0</td>\n",
       "      <td>0</td>\n",
       "    </tr>\n",
       "    <tr>\n",
       "      <th>3</th>\n",
       "      <td>3</td>\n",
       "      <td>781</td>\n",
       "      <td>789</td>\n",
       "      <td>3353146</td>\n",
       "      <td>3353173</td>\n",
       "      <td>210</td>\n",
       "      <td>16</td>\n",
       "      <td>29</td>\n",
       "      <td>3202</td>\n",
       "      <td>114</td>\n",
       "      <td>...</td>\n",
       "      <td>0.6667</td>\n",
       "      <td>-0.0402</td>\n",
       "      <td>0.4025</td>\n",
       "      <td>0</td>\n",
       "      <td>0</td>\n",
       "      <td>1</td>\n",
       "      <td>0</td>\n",
       "      <td>0</td>\n",
       "      <td>0</td>\n",
       "      <td>0</td>\n",
       "    </tr>\n",
       "    <tr>\n",
       "      <th>4</th>\n",
       "      <td>4</td>\n",
       "      <td>1540</td>\n",
       "      <td>1560</td>\n",
       "      <td>618457</td>\n",
       "      <td>618502</td>\n",
       "      <td>521</td>\n",
       "      <td>72</td>\n",
       "      <td>67</td>\n",
       "      <td>48231</td>\n",
       "      <td>82</td>\n",
       "      <td>...</td>\n",
       "      <td>0.9158</td>\n",
       "      <td>-0.2455</td>\n",
       "      <td>0.9998</td>\n",
       "      <td>0</td>\n",
       "      <td>0</td>\n",
       "      <td>0</td>\n",
       "      <td>0</td>\n",
       "      <td>0</td>\n",
       "      <td>0</td>\n",
       "      <td>1</td>\n",
       "    </tr>\n",
       "  </tbody>\n",
       "</table>\n",
       "<p>5 rows × 35 columns</p>\n",
       "</div>"
      ],
      "text/plain": [
       "   id  X_Minimum  X_Maximum  Y_Minimum  Y_Maximum  Pixels_Areas  X_Perimeter  \\\n",
       "0   0        584        590     909972     909977            16            8   \n",
       "1   1        808        816     728350     728372           433           20   \n",
       "2   2         39        192    2212076    2212144         11388          705   \n",
       "3   3        781        789    3353146    3353173           210           16   \n",
       "4   4       1540       1560     618457     618502           521           72   \n",
       "\n",
       "   Y_Perimeter  Sum_of_Luminosity  Minimum_of_Luminosity  ...  \\\n",
       "0            5               2274                    113  ...   \n",
       "1           54              44478                     70  ...   \n",
       "2          420            1311391                     29  ...   \n",
       "3           29               3202                    114  ...   \n",
       "4           67              48231                     82  ...   \n",
       "\n",
       "   Orientation_Index  Luminosity_Index  SigmoidOfAreas  Pastry  Z_Scratch  \\\n",
       "0            -0.5000           -0.0104          0.1417       0          0   \n",
       "1             0.7419           -0.2997          0.9491       0          0   \n",
       "2            -0.0105           -0.0944          1.0000       0          0   \n",
       "3             0.6667           -0.0402          0.4025       0          0   \n",
       "4             0.9158           -0.2455          0.9998       0          0   \n",
       "\n",
       "   K_Scatch  Stains  Dirtiness  Bumps  Other_Faults  \n",
       "0         0       1          0      0             0  \n",
       "1         0       0          0      0             1  \n",
       "2         1       0          0      0             0  \n",
       "3         1       0          0      0             0  \n",
       "4         0       0          0      0             1  \n",
       "\n",
       "[5 rows x 35 columns]"
      ]
     },
     "execution_count": 2,
     "metadata": {},
     "output_type": "execute_result"
    }
   ],
   "source": [
    "df = pd.read_csv('../input/train.csv')\n",
    "df.head()"
   ]
  },
  {
   "cell_type": "markdown",
   "metadata": {},
   "source": [
    "# DataFrame Info"
   ]
  },
  {
   "cell_type": "code",
   "execution_count": 12,
   "metadata": {},
   "outputs": [
    {
     "data": {
      "text/plain": [
       "(19219, 35)"
      ]
     },
     "execution_count": 12,
     "metadata": {},
     "output_type": "execute_result"
    }
   ],
   "source": [
    "df.shape"
   ]
  },
  {
   "cell_type": "code",
   "execution_count": 9,
   "metadata": {},
   "outputs": [
    {
     "data": {
      "text/plain": [
       "0"
      ]
     },
     "execution_count": 9,
     "metadata": {},
     "output_type": "execute_result"
    }
   ],
   "source": [
    "df.isnull().sum().sum()"
   ]
  },
  {
   "cell_type": "code",
   "execution_count": 10,
   "metadata": {},
   "outputs": [
    {
     "name": "stdout",
     "output_type": "stream",
     "text": [
      "<class 'pandas.core.frame.DataFrame'>\n",
      "RangeIndex: 19219 entries, 0 to 19218\n",
      "Data columns (total 35 columns):\n",
      " #   Column                 Non-Null Count  Dtype  \n",
      "---  ------                 --------------  -----  \n",
      " 0   id                     19219 non-null  int64  \n",
      " 1   X_Minimum              19219 non-null  int64  \n",
      " 2   X_Maximum              19219 non-null  int64  \n",
      " 3   Y_Minimum              19219 non-null  int64  \n",
      " 4   Y_Maximum              19219 non-null  int64  \n",
      " 5   Pixels_Areas           19219 non-null  int64  \n",
      " 6   X_Perimeter            19219 non-null  int64  \n",
      " 7   Y_Perimeter            19219 non-null  int64  \n",
      " 8   Sum_of_Luminosity      19219 non-null  int64  \n",
      " 9   Minimum_of_Luminosity  19219 non-null  int64  \n",
      " 10  Maximum_of_Luminosity  19219 non-null  int64  \n",
      " 11  Length_of_Conveyer     19219 non-null  int64  \n",
      " 12  TypeOfSteel_A300       19219 non-null  int64  \n",
      " 13  TypeOfSteel_A400       19219 non-null  int64  \n",
      " 14  Steel_Plate_Thickness  19219 non-null  int64  \n",
      " 15  Edges_Index            19219 non-null  float64\n",
      " 16  Empty_Index            19219 non-null  float64\n",
      " 17  Square_Index           19219 non-null  float64\n",
      " 18  Outside_X_Index        19219 non-null  float64\n",
      " 19  Edges_X_Index          19219 non-null  float64\n",
      " 20  Edges_Y_Index          19219 non-null  float64\n",
      " 21  Outside_Global_Index   19219 non-null  float64\n",
      " 22  LogOfAreas             19219 non-null  float64\n",
      " 23  Log_X_Index            19219 non-null  float64\n",
      " 24  Log_Y_Index            19219 non-null  float64\n",
      " 25  Orientation_Index      19219 non-null  float64\n",
      " 26  Luminosity_Index       19219 non-null  float64\n",
      " 27  SigmoidOfAreas         19219 non-null  float64\n",
      " 28  Pastry                 19219 non-null  int64  \n",
      " 29  Z_Scratch              19219 non-null  int64  \n",
      " 30  K_Scatch               19219 non-null  int64  \n",
      " 31  Stains                 19219 non-null  int64  \n",
      " 32  Dirtiness              19219 non-null  int64  \n",
      " 33  Bumps                  19219 non-null  int64  \n",
      " 34  Other_Faults           19219 non-null  int64  \n",
      "dtypes: float64(13), int64(22)\n",
      "memory usage: 5.1 MB\n"
     ]
    }
   ],
   "source": [
    "df.info()"
   ]
  },
  {
   "cell_type": "markdown",
   "metadata": {},
   "source": [
    "# Statistical Analysis"
   ]
  },
  {
   "cell_type": "code",
   "execution_count": 3,
   "metadata": {},
   "outputs": [
    {
     "data": {
      "text/html": [
       "<div>\n",
       "<style scoped>\n",
       "    .dataframe tbody tr th:only-of-type {\n",
       "        vertical-align: middle;\n",
       "    }\n",
       "\n",
       "    .dataframe tbody tr th {\n",
       "        vertical-align: top;\n",
       "    }\n",
       "\n",
       "    .dataframe thead th {\n",
       "        text-align: right;\n",
       "    }\n",
       "</style>\n",
       "<table border=\"1\" class=\"dataframe\">\n",
       "  <thead>\n",
       "    <tr style=\"text-align: right;\">\n",
       "      <th></th>\n",
       "      <th>count</th>\n",
       "      <th>mean</th>\n",
       "      <th>std</th>\n",
       "      <th>min</th>\n",
       "      <th>25%</th>\n",
       "      <th>50%</th>\n",
       "      <th>75%</th>\n",
       "      <th>max</th>\n",
       "      <th>skew</th>\n",
       "      <th>kurtosis</th>\n",
       "    </tr>\n",
       "  </thead>\n",
       "  <tbody>\n",
       "    <tr>\n",
       "      <th>id</th>\n",
       "      <td>19219.0</td>\n",
       "      <td>9609.00</td>\n",
       "      <td>5548.19</td>\n",
       "      <td>0.00</td>\n",
       "      <td>4804.50</td>\n",
       "      <td>9609.00</td>\n",
       "      <td>14413.50</td>\n",
       "      <td>19218.00</td>\n",
       "      <td>0.00</td>\n",
       "      <td>-1.20</td>\n",
       "    </tr>\n",
       "    <tr>\n",
       "      <th>X_Minimum</th>\n",
       "      <td>19219.0</td>\n",
       "      <td>709.85</td>\n",
       "      <td>531.54</td>\n",
       "      <td>0.00</td>\n",
       "      <td>49.00</td>\n",
       "      <td>777.00</td>\n",
       "      <td>1152.00</td>\n",
       "      <td>1705.00</td>\n",
       "      <td>0.02</td>\n",
       "      <td>-1.33</td>\n",
       "    </tr>\n",
       "    <tr>\n",
       "      <th>X_Maximum</th>\n",
       "      <td>19219.0</td>\n",
       "      <td>753.86</td>\n",
       "      <td>499.84</td>\n",
       "      <td>4.00</td>\n",
       "      <td>214.00</td>\n",
       "      <td>796.00</td>\n",
       "      <td>1165.00</td>\n",
       "      <td>1713.00</td>\n",
       "      <td>0.07</td>\n",
       "      <td>-1.26</td>\n",
       "    </tr>\n",
       "    <tr>\n",
       "      <th>Y_Minimum</th>\n",
       "      <td>19219.0</td>\n",
       "      <td>1849756.04</td>\n",
       "      <td>1903553.85</td>\n",
       "      <td>6712.00</td>\n",
       "      <td>657468.00</td>\n",
       "      <td>1398169.00</td>\n",
       "      <td>2368032.00</td>\n",
       "      <td>12987661.00</td>\n",
       "      <td>2.58</td>\n",
       "      <td>8.87</td>\n",
       "    </tr>\n",
       "    <tr>\n",
       "      <th>Y_Maximum</th>\n",
       "      <td>19219.0</td>\n",
       "      <td>1846605.35</td>\n",
       "      <td>1896295.14</td>\n",
       "      <td>6724.00</td>\n",
       "      <td>657502.00</td>\n",
       "      <td>1398179.00</td>\n",
       "      <td>2362511.00</td>\n",
       "      <td>12987692.00</td>\n",
       "      <td>2.57</td>\n",
       "      <td>8.84</td>\n",
       "    </tr>\n",
       "    <tr>\n",
       "      <th>Pixels_Areas</th>\n",
       "      <td>19219.0</td>\n",
       "      <td>1683.99</td>\n",
       "      <td>3730.32</td>\n",
       "      <td>6.00</td>\n",
       "      <td>89.00</td>\n",
       "      <td>168.00</td>\n",
       "      <td>653.00</td>\n",
       "      <td>152655.00</td>\n",
       "      <td>6.98</td>\n",
       "      <td>181.74</td>\n",
       "    </tr>\n",
       "    <tr>\n",
       "      <th>X_Perimeter</th>\n",
       "      <td>19219.0</td>\n",
       "      <td>95.65</td>\n",
       "      <td>177.82</td>\n",
       "      <td>2.00</td>\n",
       "      <td>15.00</td>\n",
       "      <td>25.00</td>\n",
       "      <td>64.00</td>\n",
       "      <td>7553.00</td>\n",
       "      <td>6.32</td>\n",
       "      <td>167.41</td>\n",
       "    </tr>\n",
       "    <tr>\n",
       "      <th>Y_Perimeter</th>\n",
       "      <td>19219.0</td>\n",
       "      <td>64.12</td>\n",
       "      <td>101.05</td>\n",
       "      <td>1.00</td>\n",
       "      <td>14.00</td>\n",
       "      <td>23.00</td>\n",
       "      <td>61.00</td>\n",
       "      <td>903.00</td>\n",
       "      <td>2.98</td>\n",
       "      <td>9.29</td>\n",
       "    </tr>\n",
       "    <tr>\n",
       "      <th>Sum_of_Luminosity</th>\n",
       "      <td>19219.0</td>\n",
       "      <td>191846.68</td>\n",
       "      <td>442024.69</td>\n",
       "      <td>250.00</td>\n",
       "      <td>9848.00</td>\n",
       "      <td>18238.00</td>\n",
       "      <td>67978.00</td>\n",
       "      <td>11591414.00</td>\n",
       "      <td>6.69</td>\n",
       "      <td>121.21</td>\n",
       "    </tr>\n",
       "    <tr>\n",
       "      <th>Minimum_of_Luminosity</th>\n",
       "      <td>19219.0</td>\n",
       "      <td>84.81</td>\n",
       "      <td>28.80</td>\n",
       "      <td>0.00</td>\n",
       "      <td>70.00</td>\n",
       "      <td>90.00</td>\n",
       "      <td>105.00</td>\n",
       "      <td>196.00</td>\n",
       "      <td>-0.33</td>\n",
       "      <td>-0.00</td>\n",
       "    </tr>\n",
       "    <tr>\n",
       "      <th>Maximum_of_Luminosity</th>\n",
       "      <td>19219.0</td>\n",
       "      <td>128.65</td>\n",
       "      <td>14.20</td>\n",
       "      <td>39.00</td>\n",
       "      <td>124.00</td>\n",
       "      <td>127.00</td>\n",
       "      <td>135.00</td>\n",
       "      <td>253.00</td>\n",
       "      <td>1.17</td>\n",
       "      <td>9.78</td>\n",
       "    </tr>\n",
       "    <tr>\n",
       "      <th>Length_of_Conveyer</th>\n",
       "      <td>19219.0</td>\n",
       "      <td>1459.35</td>\n",
       "      <td>145.57</td>\n",
       "      <td>1227.00</td>\n",
       "      <td>1358.00</td>\n",
       "      <td>1364.00</td>\n",
       "      <td>1652.00</td>\n",
       "      <td>1794.00</td>\n",
       "      <td>0.86</td>\n",
       "      <td>-1.21</td>\n",
       "    </tr>\n",
       "    <tr>\n",
       "      <th>TypeOfSteel_A300</th>\n",
       "      <td>19219.0</td>\n",
       "      <td>0.40</td>\n",
       "      <td>0.49</td>\n",
       "      <td>0.00</td>\n",
       "      <td>0.00</td>\n",
       "      <td>0.00</td>\n",
       "      <td>1.00</td>\n",
       "      <td>1.00</td>\n",
       "      <td>0.40</td>\n",
       "      <td>-1.84</td>\n",
       "    </tr>\n",
       "    <tr>\n",
       "      <th>TypeOfSteel_A400</th>\n",
       "      <td>19219.0</td>\n",
       "      <td>0.60</td>\n",
       "      <td>0.49</td>\n",
       "      <td>0.00</td>\n",
       "      <td>0.00</td>\n",
       "      <td>1.00</td>\n",
       "      <td>1.00</td>\n",
       "      <td>1.00</td>\n",
       "      <td>-0.39</td>\n",
       "      <td>-1.85</td>\n",
       "    </tr>\n",
       "    <tr>\n",
       "      <th>Steel_Plate_Thickness</th>\n",
       "      <td>19219.0</td>\n",
       "      <td>76.21</td>\n",
       "      <td>53.93</td>\n",
       "      <td>40.00</td>\n",
       "      <td>40.00</td>\n",
       "      <td>69.00</td>\n",
       "      <td>80.00</td>\n",
       "      <td>300.00</td>\n",
       "      <td>2.36</td>\n",
       "      <td>5.76</td>\n",
       "    </tr>\n",
       "    <tr>\n",
       "      <th>Edges_Index</th>\n",
       "      <td>19219.0</td>\n",
       "      <td>0.35</td>\n",
       "      <td>0.32</td>\n",
       "      <td>0.00</td>\n",
       "      <td>0.06</td>\n",
       "      <td>0.24</td>\n",
       "      <td>0.66</td>\n",
       "      <td>1.00</td>\n",
       "      <td>0.54</td>\n",
       "      <td>-1.21</td>\n",
       "    </tr>\n",
       "    <tr>\n",
       "      <th>Empty_Index</th>\n",
       "      <td>19219.0</td>\n",
       "      <td>0.41</td>\n",
       "      <td>0.12</td>\n",
       "      <td>0.00</td>\n",
       "      <td>0.32</td>\n",
       "      <td>0.41</td>\n",
       "      <td>0.49</td>\n",
       "      <td>0.93</td>\n",
       "      <td>0.20</td>\n",
       "      <td>-0.17</td>\n",
       "    </tr>\n",
       "    <tr>\n",
       "      <th>Square_Index</th>\n",
       "      <td>19219.0</td>\n",
       "      <td>0.57</td>\n",
       "      <td>0.26</td>\n",
       "      <td>0.01</td>\n",
       "      <td>0.38</td>\n",
       "      <td>0.55</td>\n",
       "      <td>0.82</td>\n",
       "      <td>1.00</td>\n",
       "      <td>0.01</td>\n",
       "      <td>-1.15</td>\n",
       "    </tr>\n",
       "    <tr>\n",
       "      <th>Outside_X_Index</th>\n",
       "      <td>19219.0</td>\n",
       "      <td>0.03</td>\n",
       "      <td>0.05</td>\n",
       "      <td>0.00</td>\n",
       "      <td>0.01</td>\n",
       "      <td>0.01</td>\n",
       "      <td>0.02</td>\n",
       "      <td>0.67</td>\n",
       "      <td>3.12</td>\n",
       "      <td>20.01</td>\n",
       "    </tr>\n",
       "    <tr>\n",
       "      <th>Edges_X_Index</th>\n",
       "      <td>19219.0</td>\n",
       "      <td>0.61</td>\n",
       "      <td>0.22</td>\n",
       "      <td>0.01</td>\n",
       "      <td>0.45</td>\n",
       "      <td>0.64</td>\n",
       "      <td>0.79</td>\n",
       "      <td>1.00</td>\n",
       "      <td>-0.25</td>\n",
       "      <td>-0.78</td>\n",
       "    </tr>\n",
       "    <tr>\n",
       "      <th>Edges_Y_Index</th>\n",
       "      <td>19219.0</td>\n",
       "      <td>0.83</td>\n",
       "      <td>0.22</td>\n",
       "      <td>0.10</td>\n",
       "      <td>0.66</td>\n",
       "      <td>0.96</td>\n",
       "      <td>1.00</td>\n",
       "      <td>1.00</td>\n",
       "      <td>-0.98</td>\n",
       "      <td>-0.56</td>\n",
       "    </tr>\n",
       "    <tr>\n",
       "      <th>Outside_Global_Index</th>\n",
       "      <td>19219.0</td>\n",
       "      <td>0.59</td>\n",
       "      <td>0.48</td>\n",
       "      <td>-0.00</td>\n",
       "      <td>0.00</td>\n",
       "      <td>1.00</td>\n",
       "      <td>1.00</td>\n",
       "      <td>1.00</td>\n",
       "      <td>-0.37</td>\n",
       "      <td>-1.82</td>\n",
       "    </tr>\n",
       "    <tr>\n",
       "      <th>LogOfAreas</th>\n",
       "      <td>19219.0</td>\n",
       "      <td>2.47</td>\n",
       "      <td>0.76</td>\n",
       "      <td>0.78</td>\n",
       "      <td>1.95</td>\n",
       "      <td>2.23</td>\n",
       "      <td>2.81</td>\n",
       "      <td>4.55</td>\n",
       "      <td>0.86</td>\n",
       "      <td>-0.25</td>\n",
       "    </tr>\n",
       "    <tr>\n",
       "      <th>Log_X_Index</th>\n",
       "      <td>19219.0</td>\n",
       "      <td>1.31</td>\n",
       "      <td>0.47</td>\n",
       "      <td>0.30</td>\n",
       "      <td>1.00</td>\n",
       "      <td>1.15</td>\n",
       "      <td>1.43</td>\n",
       "      <td>3.00</td>\n",
       "      <td>1.10</td>\n",
       "      <td>-0.06</td>\n",
       "    </tr>\n",
       "    <tr>\n",
       "      <th>Log_Y_Index</th>\n",
       "      <td>19219.0</td>\n",
       "      <td>1.39</td>\n",
       "      <td>0.41</td>\n",
       "      <td>0.00</td>\n",
       "      <td>1.08</td>\n",
       "      <td>1.32</td>\n",
       "      <td>1.71</td>\n",
       "      <td>4.03</td>\n",
       "      <td>0.39</td>\n",
       "      <td>-0.17</td>\n",
       "    </tr>\n",
       "    <tr>\n",
       "      <th>Orientation_Index</th>\n",
       "      <td>19219.0</td>\n",
       "      <td>0.10</td>\n",
       "      <td>0.49</td>\n",
       "      <td>-0.99</td>\n",
       "      <td>-0.27</td>\n",
       "      <td>0.11</td>\n",
       "      <td>0.53</td>\n",
       "      <td>0.99</td>\n",
       "      <td>-0.19</td>\n",
       "      <td>-1.09</td>\n",
       "    </tr>\n",
       "    <tr>\n",
       "      <th>Luminosity_Index</th>\n",
       "      <td>19219.0</td>\n",
       "      <td>-0.14</td>\n",
       "      <td>0.12</td>\n",
       "      <td>-0.88</td>\n",
       "      <td>-0.19</td>\n",
       "      <td>-0.14</td>\n",
       "      <td>-0.08</td>\n",
       "      <td>0.64</td>\n",
       "      <td>0.78</td>\n",
       "      <td>6.90</td>\n",
       "    </tr>\n",
       "    <tr>\n",
       "      <th>SigmoidOfAreas</th>\n",
       "      <td>19219.0</td>\n",
       "      <td>0.57</td>\n",
       "      <td>0.33</td>\n",
       "      <td>0.12</td>\n",
       "      <td>0.25</td>\n",
       "      <td>0.47</td>\n",
       "      <td>1.00</td>\n",
       "      <td>1.00</td>\n",
       "      <td>0.22</td>\n",
       "      <td>-1.64</td>\n",
       "    </tr>\n",
       "    <tr>\n",
       "      <th>Pastry</th>\n",
       "      <td>19219.0</td>\n",
       "      <td>0.08</td>\n",
       "      <td>0.27</td>\n",
       "      <td>0.00</td>\n",
       "      <td>0.00</td>\n",
       "      <td>0.00</td>\n",
       "      <td>0.00</td>\n",
       "      <td>1.00</td>\n",
       "      <td>3.19</td>\n",
       "      <td>8.19</td>\n",
       "    </tr>\n",
       "    <tr>\n",
       "      <th>Z_Scratch</th>\n",
       "      <td>19219.0</td>\n",
       "      <td>0.06</td>\n",
       "      <td>0.24</td>\n",
       "      <td>0.00</td>\n",
       "      <td>0.00</td>\n",
       "      <td>0.00</td>\n",
       "      <td>0.00</td>\n",
       "      <td>1.00</td>\n",
       "      <td>3.71</td>\n",
       "      <td>11.78</td>\n",
       "    </tr>\n",
       "    <tr>\n",
       "      <th>K_Scatch</th>\n",
       "      <td>19219.0</td>\n",
       "      <td>0.18</td>\n",
       "      <td>0.38</td>\n",
       "      <td>0.00</td>\n",
       "      <td>0.00</td>\n",
       "      <td>0.00</td>\n",
       "      <td>0.00</td>\n",
       "      <td>1.00</td>\n",
       "      <td>1.68</td>\n",
       "      <td>0.82</td>\n",
       "    </tr>\n",
       "    <tr>\n",
       "      <th>Stains</th>\n",
       "      <td>19219.0</td>\n",
       "      <td>0.03</td>\n",
       "      <td>0.17</td>\n",
       "      <td>0.00</td>\n",
       "      <td>0.00</td>\n",
       "      <td>0.00</td>\n",
       "      <td>0.00</td>\n",
       "      <td>1.00</td>\n",
       "      <td>5.56</td>\n",
       "      <td>28.87</td>\n",
       "    </tr>\n",
       "    <tr>\n",
       "      <th>Dirtiness</th>\n",
       "      <td>19219.0</td>\n",
       "      <td>0.03</td>\n",
       "      <td>0.16</td>\n",
       "      <td>0.00</td>\n",
       "      <td>0.00</td>\n",
       "      <td>0.00</td>\n",
       "      <td>0.00</td>\n",
       "      <td>1.00</td>\n",
       "      <td>6.05</td>\n",
       "      <td>34.66</td>\n",
       "    </tr>\n",
       "    <tr>\n",
       "      <th>Bumps</th>\n",
       "      <td>19219.0</td>\n",
       "      <td>0.25</td>\n",
       "      <td>0.43</td>\n",
       "      <td>0.00</td>\n",
       "      <td>0.00</td>\n",
       "      <td>0.00</td>\n",
       "      <td>0.00</td>\n",
       "      <td>1.00</td>\n",
       "      <td>1.17</td>\n",
       "      <td>-0.64</td>\n",
       "    </tr>\n",
       "    <tr>\n",
       "      <th>Other_Faults</th>\n",
       "      <td>19219.0</td>\n",
       "      <td>0.34</td>\n",
       "      <td>0.47</td>\n",
       "      <td>0.00</td>\n",
       "      <td>0.00</td>\n",
       "      <td>0.00</td>\n",
       "      <td>1.00</td>\n",
       "      <td>1.00</td>\n",
       "      <td>0.67</td>\n",
       "      <td>-1.55</td>\n",
       "    </tr>\n",
       "  </tbody>\n",
       "</table>\n",
       "</div>"
      ],
      "text/plain": [
       "                         count        mean         std      min        25%  \\\n",
       "id                     19219.0     9609.00     5548.19     0.00    4804.50   \n",
       "X_Minimum              19219.0      709.85      531.54     0.00      49.00   \n",
       "X_Maximum              19219.0      753.86      499.84     4.00     214.00   \n",
       "Y_Minimum              19219.0  1849756.04  1903553.85  6712.00  657468.00   \n",
       "Y_Maximum              19219.0  1846605.35  1896295.14  6724.00  657502.00   \n",
       "Pixels_Areas           19219.0     1683.99     3730.32     6.00      89.00   \n",
       "X_Perimeter            19219.0       95.65      177.82     2.00      15.00   \n",
       "Y_Perimeter            19219.0       64.12      101.05     1.00      14.00   \n",
       "Sum_of_Luminosity      19219.0   191846.68   442024.69   250.00    9848.00   \n",
       "Minimum_of_Luminosity  19219.0       84.81       28.80     0.00      70.00   \n",
       "Maximum_of_Luminosity  19219.0      128.65       14.20    39.00     124.00   \n",
       "Length_of_Conveyer     19219.0     1459.35      145.57  1227.00    1358.00   \n",
       "TypeOfSteel_A300       19219.0        0.40        0.49     0.00       0.00   \n",
       "TypeOfSteel_A400       19219.0        0.60        0.49     0.00       0.00   \n",
       "Steel_Plate_Thickness  19219.0       76.21       53.93    40.00      40.00   \n",
       "Edges_Index            19219.0        0.35        0.32     0.00       0.06   \n",
       "Empty_Index            19219.0        0.41        0.12     0.00       0.32   \n",
       "Square_Index           19219.0        0.57        0.26     0.01       0.38   \n",
       "Outside_X_Index        19219.0        0.03        0.05     0.00       0.01   \n",
       "Edges_X_Index          19219.0        0.61        0.22     0.01       0.45   \n",
       "Edges_Y_Index          19219.0        0.83        0.22     0.10       0.66   \n",
       "Outside_Global_Index   19219.0        0.59        0.48    -0.00       0.00   \n",
       "LogOfAreas             19219.0        2.47        0.76     0.78       1.95   \n",
       "Log_X_Index            19219.0        1.31        0.47     0.30       1.00   \n",
       "Log_Y_Index            19219.0        1.39        0.41     0.00       1.08   \n",
       "Orientation_Index      19219.0        0.10        0.49    -0.99      -0.27   \n",
       "Luminosity_Index       19219.0       -0.14        0.12    -0.88      -0.19   \n",
       "SigmoidOfAreas         19219.0        0.57        0.33     0.12       0.25   \n",
       "Pastry                 19219.0        0.08        0.27     0.00       0.00   \n",
       "Z_Scratch              19219.0        0.06        0.24     0.00       0.00   \n",
       "K_Scatch               19219.0        0.18        0.38     0.00       0.00   \n",
       "Stains                 19219.0        0.03        0.17     0.00       0.00   \n",
       "Dirtiness              19219.0        0.03        0.16     0.00       0.00   \n",
       "Bumps                  19219.0        0.25        0.43     0.00       0.00   \n",
       "Other_Faults           19219.0        0.34        0.47     0.00       0.00   \n",
       "\n",
       "                              50%         75%          max  skew  kurtosis  \n",
       "id                        9609.00    14413.50     19218.00  0.00     -1.20  \n",
       "X_Minimum                  777.00     1152.00      1705.00  0.02     -1.33  \n",
       "X_Maximum                  796.00     1165.00      1713.00  0.07     -1.26  \n",
       "Y_Minimum              1398169.00  2368032.00  12987661.00  2.58      8.87  \n",
       "Y_Maximum              1398179.00  2362511.00  12987692.00  2.57      8.84  \n",
       "Pixels_Areas               168.00      653.00    152655.00  6.98    181.74  \n",
       "X_Perimeter                 25.00       64.00      7553.00  6.32    167.41  \n",
       "Y_Perimeter                 23.00       61.00       903.00  2.98      9.29  \n",
       "Sum_of_Luminosity        18238.00    67978.00  11591414.00  6.69    121.21  \n",
       "Minimum_of_Luminosity       90.00      105.00       196.00 -0.33     -0.00  \n",
       "Maximum_of_Luminosity      127.00      135.00       253.00  1.17      9.78  \n",
       "Length_of_Conveyer        1364.00     1652.00      1794.00  0.86     -1.21  \n",
       "TypeOfSteel_A300             0.00        1.00         1.00  0.40     -1.84  \n",
       "TypeOfSteel_A400             1.00        1.00         1.00 -0.39     -1.85  \n",
       "Steel_Plate_Thickness       69.00       80.00       300.00  2.36      5.76  \n",
       "Edges_Index                  0.24        0.66         1.00  0.54     -1.21  \n",
       "Empty_Index                  0.41        0.49         0.93  0.20     -0.17  \n",
       "Square_Index                 0.55        0.82         1.00  0.01     -1.15  \n",
       "Outside_X_Index              0.01        0.02         0.67  3.12     20.01  \n",
       "Edges_X_Index                0.64        0.79         1.00 -0.25     -0.78  \n",
       "Edges_Y_Index                0.96        1.00         1.00 -0.98     -0.56  \n",
       "Outside_Global_Index         1.00        1.00         1.00 -0.37     -1.82  \n",
       "LogOfAreas                   2.23        2.81         4.55  0.86     -0.25  \n",
       "Log_X_Index                  1.15        1.43         3.00  1.10     -0.06  \n",
       "Log_Y_Index                  1.32        1.71         4.03  0.39     -0.17  \n",
       "Orientation_Index            0.11        0.53         0.99 -0.19     -1.09  \n",
       "Luminosity_Index            -0.14       -0.08         0.64  0.78      6.90  \n",
       "SigmoidOfAreas               0.47        1.00         1.00  0.22     -1.64  \n",
       "Pastry                       0.00        0.00         1.00  3.19      8.19  \n",
       "Z_Scratch                    0.00        0.00         1.00  3.71     11.78  \n",
       "K_Scatch                     0.00        0.00         1.00  1.68      0.82  \n",
       "Stains                       0.00        0.00         1.00  5.56     28.87  \n",
       "Dirtiness                    0.00        0.00         1.00  6.05     34.66  \n",
       "Bumps                        0.00        0.00         1.00  1.17     -0.64  \n",
       "Other_Faults                 0.00        1.00         1.00  0.67     -1.55  "
      ]
     },
     "execution_count": 3,
     "metadata": {},
     "output_type": "execute_result"
    }
   ],
   "source": [
    "describe = df.describe().T\n",
    "describe['skew'] = df.skew().values\n",
    "describe['kurtosis'] = df.kurtosis().values\n",
    "\n",
    "describe = round(describe, 2)\n",
    "describe"
   ]
  },
  {
   "cell_type": "code",
   "execution_count": 13,
   "metadata": {},
   "outputs": [],
   "source": [
    "features = df.columns.tolist()[1:-7]\n",
    "labels = df.columns.tolist()[-7:]"
   ]
  },
  {
   "cell_type": "code",
   "execution_count": null,
   "metadata": {},
   "outputs": [],
   "source": []
  },
  {
   "cell_type": "code",
   "execution_count": 8,
   "metadata": {},
   "outputs": [
    {
     "data": {
      "application/vnd.plotly.v1+json": {
       "config": {
        "plotlyServerURL": "https://plot.ly"
       },
       "data": [
        {
         "hole": 0.2,
         "insidetextorientation": "horizontal",
         "labels": [
          "Pastry",
          "Z_Scratch",
          "K_Scatch",
          "Stains",
          "Dirtiness",
          "Bumps",
          "Other_Faults"
         ],
         "textinfo": "percent+value+label",
         "textposition": "outside",
         "type": "pie",
         "values": [
          1466,
          1150,
          3432,
          568,
          485,
          4763,
          6558
         ]
        }
       ],
       "layout": {
        "height": 600,
        "showlegend": false,
        "template": {
         "data": {
          "bar": [
           {
            "error_x": {
             "color": "#2a3f5f"
            },
            "error_y": {
             "color": "#2a3f5f"
            },
            "marker": {
             "line": {
              "color": "#E5ECF6",
              "width": 0.5
             },
             "pattern": {
              "fillmode": "overlay",
              "size": 10,
              "solidity": 0.2
             }
            },
            "type": "bar"
           }
          ],
          "barpolar": [
           {
            "marker": {
             "line": {
              "color": "#E5ECF6",
              "width": 0.5
             },
             "pattern": {
              "fillmode": "overlay",
              "size": 10,
              "solidity": 0.2
             }
            },
            "type": "barpolar"
           }
          ],
          "carpet": [
           {
            "aaxis": {
             "endlinecolor": "#2a3f5f",
             "gridcolor": "white",
             "linecolor": "white",
             "minorgridcolor": "white",
             "startlinecolor": "#2a3f5f"
            },
            "baxis": {
             "endlinecolor": "#2a3f5f",
             "gridcolor": "white",
             "linecolor": "white",
             "minorgridcolor": "white",
             "startlinecolor": "#2a3f5f"
            },
            "type": "carpet"
           }
          ],
          "choropleth": [
           {
            "colorbar": {
             "outlinewidth": 0,
             "ticks": ""
            },
            "type": "choropleth"
           }
          ],
          "contour": [
           {
            "colorbar": {
             "outlinewidth": 0,
             "ticks": ""
            },
            "colorscale": [
             [
              0,
              "#0d0887"
             ],
             [
              0.1111111111111111,
              "#46039f"
             ],
             [
              0.2222222222222222,
              "#7201a8"
             ],
             [
              0.3333333333333333,
              "#9c179e"
             ],
             [
              0.4444444444444444,
              "#bd3786"
             ],
             [
              0.5555555555555556,
              "#d8576b"
             ],
             [
              0.6666666666666666,
              "#ed7953"
             ],
             [
              0.7777777777777778,
              "#fb9f3a"
             ],
             [
              0.8888888888888888,
              "#fdca26"
             ],
             [
              1,
              "#f0f921"
             ]
            ],
            "type": "contour"
           }
          ],
          "contourcarpet": [
           {
            "colorbar": {
             "outlinewidth": 0,
             "ticks": ""
            },
            "type": "contourcarpet"
           }
          ],
          "heatmap": [
           {
            "colorbar": {
             "outlinewidth": 0,
             "ticks": ""
            },
            "colorscale": [
             [
              0,
              "#0d0887"
             ],
             [
              0.1111111111111111,
              "#46039f"
             ],
             [
              0.2222222222222222,
              "#7201a8"
             ],
             [
              0.3333333333333333,
              "#9c179e"
             ],
             [
              0.4444444444444444,
              "#bd3786"
             ],
             [
              0.5555555555555556,
              "#d8576b"
             ],
             [
              0.6666666666666666,
              "#ed7953"
             ],
             [
              0.7777777777777778,
              "#fb9f3a"
             ],
             [
              0.8888888888888888,
              "#fdca26"
             ],
             [
              1,
              "#f0f921"
             ]
            ],
            "type": "heatmap"
           }
          ],
          "heatmapgl": [
           {
            "colorbar": {
             "outlinewidth": 0,
             "ticks": ""
            },
            "colorscale": [
             [
              0,
              "#0d0887"
             ],
             [
              0.1111111111111111,
              "#46039f"
             ],
             [
              0.2222222222222222,
              "#7201a8"
             ],
             [
              0.3333333333333333,
              "#9c179e"
             ],
             [
              0.4444444444444444,
              "#bd3786"
             ],
             [
              0.5555555555555556,
              "#d8576b"
             ],
             [
              0.6666666666666666,
              "#ed7953"
             ],
             [
              0.7777777777777778,
              "#fb9f3a"
             ],
             [
              0.8888888888888888,
              "#fdca26"
             ],
             [
              1,
              "#f0f921"
             ]
            ],
            "type": "heatmapgl"
           }
          ],
          "histogram": [
           {
            "marker": {
             "pattern": {
              "fillmode": "overlay",
              "size": 10,
              "solidity": 0.2
             }
            },
            "type": "histogram"
           }
          ],
          "histogram2d": [
           {
            "colorbar": {
             "outlinewidth": 0,
             "ticks": ""
            },
            "colorscale": [
             [
              0,
              "#0d0887"
             ],
             [
              0.1111111111111111,
              "#46039f"
             ],
             [
              0.2222222222222222,
              "#7201a8"
             ],
             [
              0.3333333333333333,
              "#9c179e"
             ],
             [
              0.4444444444444444,
              "#bd3786"
             ],
             [
              0.5555555555555556,
              "#d8576b"
             ],
             [
              0.6666666666666666,
              "#ed7953"
             ],
             [
              0.7777777777777778,
              "#fb9f3a"
             ],
             [
              0.8888888888888888,
              "#fdca26"
             ],
             [
              1,
              "#f0f921"
             ]
            ],
            "type": "histogram2d"
           }
          ],
          "histogram2dcontour": [
           {
            "colorbar": {
             "outlinewidth": 0,
             "ticks": ""
            },
            "colorscale": [
             [
              0,
              "#0d0887"
             ],
             [
              0.1111111111111111,
              "#46039f"
             ],
             [
              0.2222222222222222,
              "#7201a8"
             ],
             [
              0.3333333333333333,
              "#9c179e"
             ],
             [
              0.4444444444444444,
              "#bd3786"
             ],
             [
              0.5555555555555556,
              "#d8576b"
             ],
             [
              0.6666666666666666,
              "#ed7953"
             ],
             [
              0.7777777777777778,
              "#fb9f3a"
             ],
             [
              0.8888888888888888,
              "#fdca26"
             ],
             [
              1,
              "#f0f921"
             ]
            ],
            "type": "histogram2dcontour"
           }
          ],
          "mesh3d": [
           {
            "colorbar": {
             "outlinewidth": 0,
             "ticks": ""
            },
            "type": "mesh3d"
           }
          ],
          "parcoords": [
           {
            "line": {
             "colorbar": {
              "outlinewidth": 0,
              "ticks": ""
             }
            },
            "type": "parcoords"
           }
          ],
          "pie": [
           {
            "automargin": true,
            "type": "pie"
           }
          ],
          "scatter": [
           {
            "fillpattern": {
             "fillmode": "overlay",
             "size": 10,
             "solidity": 0.2
            },
            "type": "scatter"
           }
          ],
          "scatter3d": [
           {
            "line": {
             "colorbar": {
              "outlinewidth": 0,
              "ticks": ""
             }
            },
            "marker": {
             "colorbar": {
              "outlinewidth": 0,
              "ticks": ""
             }
            },
            "type": "scatter3d"
           }
          ],
          "scattercarpet": [
           {
            "marker": {
             "colorbar": {
              "outlinewidth": 0,
              "ticks": ""
             }
            },
            "type": "scattercarpet"
           }
          ],
          "scattergeo": [
           {
            "marker": {
             "colorbar": {
              "outlinewidth": 0,
              "ticks": ""
             }
            },
            "type": "scattergeo"
           }
          ],
          "scattergl": [
           {
            "marker": {
             "colorbar": {
              "outlinewidth": 0,
              "ticks": ""
             }
            },
            "type": "scattergl"
           }
          ],
          "scattermapbox": [
           {
            "marker": {
             "colorbar": {
              "outlinewidth": 0,
              "ticks": ""
             }
            },
            "type": "scattermapbox"
           }
          ],
          "scatterpolar": [
           {
            "marker": {
             "colorbar": {
              "outlinewidth": 0,
              "ticks": ""
             }
            },
            "type": "scatterpolar"
           }
          ],
          "scatterpolargl": [
           {
            "marker": {
             "colorbar": {
              "outlinewidth": 0,
              "ticks": ""
             }
            },
            "type": "scatterpolargl"
           }
          ],
          "scatterternary": [
           {
            "marker": {
             "colorbar": {
              "outlinewidth": 0,
              "ticks": ""
             }
            },
            "type": "scatterternary"
           }
          ],
          "surface": [
           {
            "colorbar": {
             "outlinewidth": 0,
             "ticks": ""
            },
            "colorscale": [
             [
              0,
              "#0d0887"
             ],
             [
              0.1111111111111111,
              "#46039f"
             ],
             [
              0.2222222222222222,
              "#7201a8"
             ],
             [
              0.3333333333333333,
              "#9c179e"
             ],
             [
              0.4444444444444444,
              "#bd3786"
             ],
             [
              0.5555555555555556,
              "#d8576b"
             ],
             [
              0.6666666666666666,
              "#ed7953"
             ],
             [
              0.7777777777777778,
              "#fb9f3a"
             ],
             [
              0.8888888888888888,
              "#fdca26"
             ],
             [
              1,
              "#f0f921"
             ]
            ],
            "type": "surface"
           }
          ],
          "table": [
           {
            "cells": {
             "fill": {
              "color": "#EBF0F8"
             },
             "line": {
              "color": "white"
             }
            },
            "header": {
             "fill": {
              "color": "#C8D4E3"
             },
             "line": {
              "color": "white"
             }
            },
            "type": "table"
           }
          ]
         },
         "layout": {
          "annotationdefaults": {
           "arrowcolor": "#2a3f5f",
           "arrowhead": 0,
           "arrowwidth": 1
          },
          "autotypenumbers": "strict",
          "coloraxis": {
           "colorbar": {
            "outlinewidth": 0,
            "ticks": ""
           }
          },
          "colorscale": {
           "diverging": [
            [
             0,
             "#8e0152"
            ],
            [
             0.1,
             "#c51b7d"
            ],
            [
             0.2,
             "#de77ae"
            ],
            [
             0.3,
             "#f1b6da"
            ],
            [
             0.4,
             "#fde0ef"
            ],
            [
             0.5,
             "#f7f7f7"
            ],
            [
             0.6,
             "#e6f5d0"
            ],
            [
             0.7,
             "#b8e186"
            ],
            [
             0.8,
             "#7fbc41"
            ],
            [
             0.9,
             "#4d9221"
            ],
            [
             1,
             "#276419"
            ]
           ],
           "sequential": [
            [
             0,
             "#0d0887"
            ],
            [
             0.1111111111111111,
             "#46039f"
            ],
            [
             0.2222222222222222,
             "#7201a8"
            ],
            [
             0.3333333333333333,
             "#9c179e"
            ],
            [
             0.4444444444444444,
             "#bd3786"
            ],
            [
             0.5555555555555556,
             "#d8576b"
            ],
            [
             0.6666666666666666,
             "#ed7953"
            ],
            [
             0.7777777777777778,
             "#fb9f3a"
            ],
            [
             0.8888888888888888,
             "#fdca26"
            ],
            [
             1,
             "#f0f921"
            ]
           ],
           "sequentialminus": [
            [
             0,
             "#0d0887"
            ],
            [
             0.1111111111111111,
             "#46039f"
            ],
            [
             0.2222222222222222,
             "#7201a8"
            ],
            [
             0.3333333333333333,
             "#9c179e"
            ],
            [
             0.4444444444444444,
             "#bd3786"
            ],
            [
             0.5555555555555556,
             "#d8576b"
            ],
            [
             0.6666666666666666,
             "#ed7953"
            ],
            [
             0.7777777777777778,
             "#fb9f3a"
            ],
            [
             0.8888888888888888,
             "#fdca26"
            ],
            [
             1,
             "#f0f921"
            ]
           ]
          },
          "colorway": [
           "#636efa",
           "#EF553B",
           "#00cc96",
           "#ab63fa",
           "#FFA15A",
           "#19d3f3",
           "#FF6692",
           "#B6E880",
           "#FF97FF",
           "#FECB52"
          ],
          "font": {
           "color": "#2a3f5f"
          },
          "geo": {
           "bgcolor": "white",
           "lakecolor": "white",
           "landcolor": "#E5ECF6",
           "showlakes": true,
           "showland": true,
           "subunitcolor": "white"
          },
          "hoverlabel": {
           "align": "left"
          },
          "hovermode": "closest",
          "mapbox": {
           "style": "light"
          },
          "paper_bgcolor": "white",
          "plot_bgcolor": "#E5ECF6",
          "polar": {
           "angularaxis": {
            "gridcolor": "white",
            "linecolor": "white",
            "ticks": ""
           },
           "bgcolor": "#E5ECF6",
           "radialaxis": {
            "gridcolor": "white",
            "linecolor": "white",
            "ticks": ""
           }
          },
          "scene": {
           "xaxis": {
            "backgroundcolor": "#E5ECF6",
            "gridcolor": "white",
            "gridwidth": 2,
            "linecolor": "white",
            "showbackground": true,
            "ticks": "",
            "zerolinecolor": "white"
           },
           "yaxis": {
            "backgroundcolor": "#E5ECF6",
            "gridcolor": "white",
            "gridwidth": 2,
            "linecolor": "white",
            "showbackground": true,
            "ticks": "",
            "zerolinecolor": "white"
           },
           "zaxis": {
            "backgroundcolor": "#E5ECF6",
            "gridcolor": "white",
            "gridwidth": 2,
            "linecolor": "white",
            "showbackground": true,
            "ticks": "",
            "zerolinecolor": "white"
           }
          },
          "shapedefaults": {
           "line": {
            "color": "#2a3f5f"
           }
          },
          "ternary": {
           "aaxis": {
            "gridcolor": "white",
            "linecolor": "white",
            "ticks": ""
           },
           "baxis": {
            "gridcolor": "white",
            "linecolor": "white",
            "ticks": ""
           },
           "bgcolor": "#E5ECF6",
           "caxis": {
            "gridcolor": "white",
            "linecolor": "white",
            "ticks": ""
           }
          },
          "title": {
           "x": 0.05
          },
          "xaxis": {
           "automargin": true,
           "gridcolor": "white",
           "linecolor": "white",
           "ticks": "",
           "title": {
            "standoff": 15
           },
           "zerolinecolor": "white",
           "zerolinewidth": 2
          },
          "yaxis": {
           "automargin": true,
           "gridcolor": "white",
           "linecolor": "white",
           "ticks": "",
           "title": {
            "standoff": 15
           },
           "zerolinecolor": "white",
           "zerolinewidth": 2
          }
         }
        },
        "title": {
         "text": "Class Balance"
        },
        "width": 600
       }
      }
     },
     "metadata": {},
     "output_type": "display_data"
    }
   ],
   "source": [
    "counts = [df[label].sum() for label in labels]\n",
    "\n",
    "fig = go.Figure(data=go.Pie(labels=labels, values=counts, hole=0.2))\n",
    "fig.update_traces(\n",
    "    textposition='outside',\n",
    "    textinfo='percent+value+label',\n",
    "    insidetextorientation='horizontal'\n",
    ")\n",
    "fig.update_layout(\n",
    "    showlegend=False, \n",
    "    title_text=\"Class Balance\", \n",
    "    width=600,\n",
    "    height=600,\n",
    ")\n",
    "fig.show()"
   ]
  }
 ],
 "metadata": {
  "kernelspec": {
   "display_name": "venv",
   "language": "python",
   "name": "python3"
  },
  "language_info": {
   "codemirror_mode": {
    "name": "ipython",
    "version": 3
   },
   "file_extension": ".py",
   "mimetype": "text/x-python",
   "name": "python",
   "nbconvert_exporter": "python",
   "pygments_lexer": "ipython3",
   "version": "3.10.13"
  }
 },
 "nbformat": 4,
 "nbformat_minor": 2
}
